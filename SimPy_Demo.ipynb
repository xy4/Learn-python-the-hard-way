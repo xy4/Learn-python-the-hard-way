{
  "nbformat": 4,
  "nbformat_minor": 0,
  "metadata": {
    "colab": {
      "name": "SimPy_Demo.ipynb",
      "provenance": [],
      "collapsed_sections": [],
      "include_colab_link": true
    },
    "kernelspec": {
      "name": "python3",
      "display_name": "Python 3"
    }
  },
  "cells": [
    {
      "cell_type": "markdown",
      "metadata": {
        "id": "view-in-github",
        "colab_type": "text"
      },
      "source": [
        "<a href=\"https://colab.research.google.com/github/xy4/Learn-python-the-hard-way/blob/master/SimPy_Demo.ipynb\" target=\"_parent\"><img src=\"https://colab.research.google.com/assets/colab-badge.svg\" alt=\"Open In Colab\"/></a>"
      ]
    },
    {
      "cell_type": "markdown",
      "metadata": {
        "id": "1EDqm79G0qr1",
        "colab_type": "text"
      },
      "source": [
        "### SimPy Demo\n",
        "This document is to show how to use Python do DES with SimPy"
      ]
    },
    {
      "cell_type": "markdown",
      "metadata": {
        "id": "5EIyvFEk1e1s",
        "colab_type": "text"
      },
      "source": [
        "The first step is to import SimPy package and numpy package. "
      ]
    },
    {
      "cell_type": "code",
      "metadata": {
        "id": "5p-GUplv2EL7",
        "colab_type": "code",
        "colab": {}
      },
      "source": [
        "!pip install simpy"
      ],
      "execution_count": 0,
      "outputs": []
    },
    {
      "cell_type": "code",
      "metadata": {
        "id": "55I0Grhbgg39",
        "colab_type": "code",
        "colab": {}
      },
      "source": [
        "import simpy\n",
        "import numpy as np\n",
        "import matplotlib.pyplot as plt"
      ],
      "execution_count": 0,
      "outputs": []
    },
    {
      "cell_type": "markdown",
      "metadata": {
        "id": "SH5KiOGlg6sY",
        "colab_type": "text"
      },
      "source": [
        "\n",
        "\n",
        "Parameters\n",
        "\n"
      ]
    },
    {
      "cell_type": "code",
      "metadata": {
        "id": "YB65n96fe00-",
        "colab_type": "code",
        "colab": {}
      },
      "source": [
        "k = 1  # Number of servers\n",
        "mu = 2     # service rate\n",
        "lmd = 2       # arrival rate\n",
        "theta = 1  # abandon rate\n",
        "T = 5  # Simulation time"
      ],
      "execution_count": 0,
      "outputs": []
    },
    {
      "cell_type": "markdown",
      "metadata": {
        "id": "VIh3HSHup6P5",
        "colab_type": "text"
      },
      "source": [
        "Arrivals"
      ]
    },
    {
      "cell_type": "code",
      "metadata": {
        "id": "8NNmZcAJ_GoC",
        "colab_type": "code",
        "colab": {}
      },
      "source": [
        "def arr(env, servicearea, mu, lmd, theta,wait, t, cn):\n",
        "    i = 0\n",
        "    while True:\n",
        "        yield env.timeout(-np.log(np.random.uniform(0,1))/lmd)  # arrival time\n",
        "        i += 1  # customer id\n",
        "        env.process(ser(env, 'Customer %d' % i, servicearea, theta, mu, wait, t, cn))\n",
        "    "
      ],
      "execution_count": 0,
      "outputs": []
    },
    {
      "cell_type": "markdown",
      "metadata": {
        "id": "KBd2IIw9qAYR",
        "colab_type": "text"
      },
      "source": [
        "Services"
      ]
    },
    {
      "cell_type": "code",
      "metadata": {
        "id": "810pFZ1V_Tgr",
        "colab_type": "code",
        "colab": {}
      },
      "source": [
        "def ser(env, name, servicearea, theta, mu, wait, t, cn):\n",
        "    arrive = env.now    # arrival time = current time\n",
        "    cn.append(cn[-1] + 1)  # customer number in queue increased by 1\n",
        "    t.append(env.now)  # record the arrival time of current customer\n",
        "    print('%s arrives at %.2f.' % (name, arrive))\n",
        "    # after arrives    \n",
        "    patience = -np.log(np.random.uniform(0,1))/theta  #time a customer is willing to wait for service\n",
        "    with servicearea.request() as request:   # check whether service area is available\n",
        "        results = yield request | env.timeout(patience) # condition on customer's patience\n",
        "        wait.append(env.now - arrive)  # customer's waiting time\n",
        "        if request in results:   # if a customer did not abandon\n",
        "            print('%s enters the server at %.2f. ' % (name, env.now))\n",
        "\n",
        "            if wait[-1] != 0:  # if waiting time is not 0.\n",
        "                print('The waiting time is %6.3f.' % wait[-1])\n",
        "            yield env.timeout(-np.log(np.random.uniform(0,1))/mu) # customer being served\n",
        "            print('%s leaves the server at %.2f.' % (name, env.now))\n",
        "            cn.append(cn[-1] - 1)  # customer number in queue decreased by 1\n",
        "            t.append(env.now)  # record the departure time\n",
        "        else:  # if a customer abandoned\n",
        "            print('%s abandons at %.2f after wait for %6.3f.' % (name, env.now, wait[-1]))\n",
        "            cn.append(cn[-1] - 1)  # customer number in queue decreased by 1\n",
        "            t.append(env.now)  # record the abandonment time\n",
        "    return wait"
      ],
      "execution_count": 0,
      "outputs": []
    },
    {
      "cell_type": "markdown",
      "metadata": {
        "id": "W6xjHGhSuAMN",
        "colab_type": "text"
      },
      "source": [
        "Initial queue status. Set up the process."
      ]
    },
    {
      "cell_type": "code",
      "metadata": {
        "id": "3i0HDV3k_hQS",
        "colab_type": "code",
        "outputId": "9a7e037b-bac2-41a8-ecf9-b4398fe20658",
        "colab": {
          "base_uri": "https://localhost:8080/",
          "height": 34
        }
      },
      "source": [
        "wait = []   # initial waiting time is empty\n",
        "cn = [0]  # initial customer number is 0\n",
        "t = [0]   # initial time 0\n",
        "env = simpy.Environment()   # set the env variable to be the SimPy Environment Component\n",
        "servicearea = simpy.Resource(env, capacity=k)  # set servicearea to be shared resources in SimPy\n",
        "env.process(arr(env, servicearea, mu, lmd, theta, wait, t, cn))  # define the whole process"
      ],
      "execution_count": 0,
      "outputs": [
        {
          "output_type": "execute_result",
          "data": {
            "text/plain": [
              "<Process(arr) object at 0x7fca0ac71320>"
            ]
          },
          "metadata": {
            "tags": []
          },
          "execution_count": 6
        }
      ]
    },
    {
      "cell_type": "markdown",
      "metadata": {
        "id": "UhTa0VAnqUN5",
        "colab_type": "text"
      },
      "source": [
        "Run!"
      ]
    },
    {
      "cell_type": "code",
      "metadata": {
        "id": "6pt34u8D_lNm",
        "colab_type": "code",
        "outputId": "197bcb9e-11c6-4fce-adbb-b2d42fdbca36",
        "colab": {
          "base_uri": "https://localhost:8080/",
          "height": 703
        }
      },
      "source": [
        "env.run(until=T)"
      ],
      "execution_count": 0,
      "outputs": [
        {
          "output_type": "stream",
          "text": [
            "Customer 1 arrives at 0.52.\n",
            "Customer 1 enters the server at 0.52. \n",
            "Customer 2 arrives at 0.56.\n",
            "Customer 1 leaves the server at 0.67.\n",
            "Customer 2 enters the server at 0.67. \n",
            "The waiting time is  0.110.\n",
            "Customer 2 leaves the server at 1.01.\n",
            "Customer 3 arrives at 1.03.\n",
            "Customer 3 enters the server at 1.03. \n",
            "Customer 4 arrives at 1.06.\n",
            "Customer 5 arrives at 1.21.\n",
            "Customer 6 arrives at 1.37.\n",
            "Customer 3 leaves the server at 1.58.\n",
            "Customer 4 enters the server at 1.58. \n",
            "The waiting time is  0.511.\n",
            "Customer 4 leaves the server at 2.32.\n",
            "Customer 5 enters the server at 2.32. \n",
            "The waiting time is  1.107.\n",
            "Customer 7 arrives at 2.44.\n",
            "Customer 7 abandons at 2.65 after wait for  0.204.\n",
            "Customer 5 leaves the server at 2.66.\n",
            "Customer 6 enters the server at 2.66. \n",
            "The waiting time is  1.294.\n",
            "Customer 8 arrives at 2.81.\n",
            "Customer 9 arrives at 3.02.\n",
            "Customer 10 arrives at 3.08.\n",
            "Customer 11 arrives at 3.38.\n",
            "Customer 11 abandons at 3.58 after wait for  0.199.\n",
            "Customer 12 arrives at 3.77.\n",
            "Customer 9 abandons at 3.78 after wait for  0.760.\n",
            "Customer 8 abandons at 3.88 after wait for  1.074.\n",
            "Customer 13 arrives at 4.27.\n",
            "Customer 10 abandons at 4.27 after wait for  1.193.\n",
            "Customer 14 arrives at 4.47.\n",
            "Customer 14 abandons at 4.50 after wait for  0.027.\n",
            "Customer 15 arrives at 4.72.\n",
            "Customer 6 leaves the server at 4.79.\n",
            "Customer 12 enters the server at 4.79. \n",
            "The waiting time is  1.026.\n"
          ],
          "name": "stdout"
        }
      ]
    },
    {
      "cell_type": "code",
      "metadata": {
        "id": "YBA66u0e9_5G",
        "colab_type": "code",
        "outputId": "c4cc7791-012f-40a8-beca-87c8e867f8e7",
        "colab": {
          "base_uri": "https://localhost:8080/",
          "height": 52
        }
      },
      "source": [
        "print(np.mean(wait)) # mean waiting time\n",
        "intertime = [(y-x) for x,y in zip(t,t[1:])]\n",
        "qlen = [x*y for x,y in zip(intertime,cn[:-1])]\n",
        "EQ = sum(qlen)/T\n",
        "print(EQ) # mean Queue length"
      ],
      "execution_count": 0,
      "outputs": [
        {
          "output_type": "stream",
          "text": [
            "0.5774556429730543\n",
            "2.4719457905217213\n"
          ],
          "name": "stdout"
        }
      ]
    },
    {
      "cell_type": "markdown",
      "metadata": {
        "id": "bK-WwqPKwHEu",
        "colab_type": "text"
      },
      "source": [
        "Plot "
      ]
    },
    {
      "cell_type": "code",
      "metadata": {
        "id": "arJxIcsT-Byd",
        "colab_type": "code",
        "outputId": "c7e6e37b-683b-4fee-cbb3-6d7c930a2b0d",
        "colab": {
          "base_uri": "https://localhost:8080/",
          "height": 219
        }
      },
      "source": [
        "fig, ax = plt.subplots()\n",
        "plt.step(t, cn)\n",
        "plt.xlabel('T')\n",
        "plt.ylabel('Q(t)')\n",
        "plt.gca().set_aspect(0.45)\n",
        "plt.fill_between(t, cn, step=\"pre\", alpha=0.4)\n",
        "plt.xlim([0, 5])\n",
        "plt.ylim([0, 5])\n",
        "ax.spines['top'].set_visible(False)\n",
        "ax.spines['right'].set_visible(False)\n",
        "plt.tick_params(length=10, width=2, direction='inout')\n",
        "plt.show()"
      ],
      "execution_count": 0,
      "outputs": [
        {
          "output_type": "display_data",
          "data": {
            "image/png": "[encoded data removed]",
            "text/plain": [
              "<Figure size 432x288 with 1 Axes>"
            ]
          },
          "metadata": {
            "tags": []
          }
        }
      ]
    }
  ]
}